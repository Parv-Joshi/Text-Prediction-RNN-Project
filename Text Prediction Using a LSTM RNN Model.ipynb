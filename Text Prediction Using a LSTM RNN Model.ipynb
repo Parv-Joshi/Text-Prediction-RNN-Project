{
 "cells": [
  {
   "cell_type": "code",
   "execution_count": 15,
   "id": "described-artwork",
   "metadata": {},
   "outputs": [],
   "source": [
    "# Importing packages\n",
    "import numpy as np\n",
    "import pandas as pd\n",
    "from nltk.tokenize import RegexpTokenizer\n",
    "from keras.models import Sequential, load_model\n",
    "from keras.layers import LSTM\n",
    "from keras.layers.core import Dense, Activation\n",
    "from keras.optimizers import RMSprop\n",
    "import matplotlib.pyplot as plt\n",
    "import pickle\n",
    "import heapq\n",
    "import os"
   ]
  },
  {
   "cell_type": "code",
   "execution_count": 36,
   "id": "rocky-accused",
   "metadata": {},
   "outputs": [
    {
     "name": "stdout",
     "output_type": "stream",
     "text": [
      "Length of text: 562172\n"
     ]
    }
   ],
   "source": [
    "# Reading text file\n",
    "path = \"C:\\\\Users\\\\Lenovo\\\\Desktop\\\\Spring 2021\\\\AMS 380\\\\Project\\\\TheAdventuresOfSherlockHolmes.txt\"\n",
    "text = open(path, encoding=\"utf8\").read().lower()\n",
    "print('Length of text:', len(text))"
   ]
  },
  {
   "cell_type": "code",
   "execution_count": 39,
   "id": "talented-charlotte",
   "metadata": {},
   "outputs": [],
   "source": [
    "# Converting text file to a list, while removing all spaces and puntuation\n",
    "tokenizer = RegexpTokenizer(r'\\w+')\n",
    "words = tokenizer.tokenize(text)"
   ]
  },
  {
   "cell_type": "code",
   "execution_count": 41,
   "id": "faced-refund",
   "metadata": {},
   "outputs": [],
   "source": [
    "# Creating a dictionary of words (after removing duplicates) as key, and their index position as the value.\n",
    "unique_words = np.unique(words)\n",
    "unique_word_index = dict((c, i) for i, c in enumerate(unique_words))"
   ]
  },
  {
   "cell_type": "code",
   "execution_count": 42,
   "id": "wrong-skill",
   "metadata": {},
   "outputs": [
    {
     "name": "stdout",
     "output_type": "stream",
     "text": [
      "['the', 'adventures', 'of', 'sherlock', 'holmes']\n",
      "by\n"
     ]
    }
   ],
   "source": [
    "# Feature Engineering\n",
    "WORD_LENGTH = 5\n",
    "prev_words = []\n",
    "next_words = []\n",
    "for i in range(len(words) - WORD_LENGTH):\n",
    "    prev_words.append(words[i:i + WORD_LENGTH])\n",
    "    next_words.append(words[i + WORD_LENGTH])\n",
    "print(prev_words[0])\n",
    "print(next_words[0])"
   ]
  },
  {
   "cell_type": "code",
   "execution_count": 44,
   "id": "perceived-sunrise",
   "metadata": {},
   "outputs": [
    {
     "name": "stdout",
     "output_type": "stream",
     "text": [
      "[False False False ... False False False]\n"
     ]
    }
   ],
   "source": [
    "# One-Hot Encoding (using True and Falses)\n",
    "X = np.zeros((len(prev_words), WORD_LENGTH, len(unique_words)), dtype=bool)\n",
    "Y = np.zeros((len(next_words), len(unique_words)), dtype=bool)\n",
    "for i, each_words in enumerate(prev_words):\n",
    "    for j, each_word in enumerate(each_words):\n",
    "        X[i, j, unique_word_index[each_word]] = 1\n",
    "    Y[i, unique_word_index[next_words[i]]] = 1\n",
    "\n",
    "print(X[0][0])"
   ]
  },
  {
   "cell_type": "code",
   "execution_count": 47,
   "id": "compressed-replica",
   "metadata": {},
   "outputs": [],
   "source": [
    "# LSTM type RNN model\n",
    "model = Sequential()\n",
    "model.add(LSTM(128, input_shape=(WORD_LENGTH, len(unique_words))))\n",
    "model.add(Dense(len(unique_words)))\n",
    "model.add(Activation('softmax'))"
   ]
  },
  {
   "cell_type": "code",
   "execution_count": 48,
   "id": "indian-sensitivity",
   "metadata": {},
   "outputs": [
    {
     "name": "stdout",
     "output_type": "stream",
     "text": [
      "Epoch 1/2\n",
      "787/787 [==============================] - 190s 241ms/step - loss: 6.0287 - accuracy: 0.1048 - val_loss: 5.6941 - val_accuracy: 0.1287\n",
      "Epoch 2/2\n",
      "787/787 [==============================] - 164s 209ms/step - loss: 5.7682 - accuracy: 0.1468 - val_loss: 5.9628 - val_accuracy: 0.1395\n"
     ]
    }
   ],
   "source": [
    "# Creating Training and Testing Data (80% vs. 20%) and them splitting them into hierarchical data (.h5) \n",
    "\n",
    "optimizer = RMSprop(lr=0.01)\n",
    "model.compile(loss='categorical_crossentropy', optimizer=optimizer, metrics=['accuracy'])\n",
    "history = model.fit(X, Y, validation_split=0.05, batch_size=128, epochs=2, shuffle=True).history\n",
    "\n",
    "model.save('keras_next_word_model.h5')\n",
    "pickle.dump(history, open(\"history.p\", \"wb\"))\n",
    "model = load_model('keras_next_word_model.h5')\n",
    "history = pickle.load(open(\"history.p\", \"rb\"))"
   ]
  },
  {
   "cell_type": "code",
   "execution_count": 50,
   "id": "sophisticated-loading",
   "metadata": {},
   "outputs": [
    {
     "name": "stdout",
     "output_type": "stream",
     "text": [
      "it\n",
      "is\n",
      "not\n",
      "a\n",
      "lack\n"
     ]
    },
    {
     "data": {
      "text/plain": [
       "array([[[0., 0., 0., ..., 0., 0., 0.],\n",
       "        [0., 0., 0., ..., 0., 0., 0.],\n",
       "        [0., 0., 0., ..., 0., 0., 0.],\n",
       "        [0., 0., 0., ..., 0., 0., 0.],\n",
       "        [0., 0., 0., ..., 0., 0., 0.]]])"
      ]
     },
     "execution_count": 50,
     "metadata": {},
     "output_type": "execute_result"
    }
   ],
   "source": [
    "# Creating function to predict the testing data\n",
    "def prepare_input(text):\n",
    "    x = np.zeros((1, WORD_LENGTH, len(unique_words)))\n",
    "    for t, word in enumerate(text.split()):\n",
    "        print(word)\n",
    "        x[0, t, unique_word_index[word]] = 1\n",
    "    return x\n",
    "prepare_input(\"It is not a lack\".lower())"
   ]
  },
  {
   "cell_type": "code",
   "execution_count": 51,
   "id": "closed-moore",
   "metadata": {},
   "outputs": [],
   "source": [
    "# Creating function to find the 3 most used words after the given word\n",
    "def sample(preds, top_n=3):\n",
    "    preds = np.asarray(preds).astype('float64')\n",
    "    preds = np.log(preds)\n",
    "    exp_preds = np.exp(preds)\n",
    "    preds = exp_preds / np.sum(exp_preds)\n",
    "\n",
    "    return heapq.nlargest(top_n, range(len(preds)), preds.take)"
   ]
  },
  {
   "cell_type": "code",
   "execution_count": 52,
   "id": "sensitive-oregon",
   "metadata": {},
   "outputs": [],
   "source": [
    "# The final prediction models\n",
    "def predict_completions(text, n=3):\n",
    "    if text == \"\":\n",
    "        return(\"0\")\n",
    "    x = prepare_input(text)\n",
    "    preds = model.predict(x, verbose=0)[0]\n",
    "    next_indices = sample(preds, n)\n",
    "    return [unique_words[idx] for idx in next_indices]"
   ]
  },
  {
   "cell_type": "code",
   "execution_count": 73,
   "id": "smoking-bridge",
   "metadata": {},
   "outputs": [
    {
     "name": "stdout",
     "output_type": "stream",
     "text": [
      "correct sentence:  In my dealings with Sherlock Holmes\n",
      "\n",
      "Sequence of words:\n",
      "in\n",
      "my\n",
      "dealings\n",
      "with\n",
      "sherlock\n",
      "\n",
      "Next Possible Words: holmes, he, that."
     ]
    }
   ],
   "source": [
    "# Trying out the RNN model\n",
    "q = \"In my dealings with Sherlock Holmes\"\n",
    "print(\"correct sentence: \", q)\n",
    "print(\"\\nSequence of words:\")\n",
    "seq = \" \".join(tokenizer.tokenize(q.lower())[0:5])\n",
    "l = predict_completions(seq, 3)\n",
    "print(\"\\nNext Possible Words: \", end=\"\")\n",
    "for i in range(len(l)):\n",
    "    if i == len(l)-1:\n",
    "        print(l[i], end=\".\")\n",
    "    else:\n",
    "        print(l[i], end=\", \")"
   ]
  },
  {
   "cell_type": "code",
   "execution_count": null,
   "id": "actual-orange",
   "metadata": {},
   "outputs": [],
   "source": []
  }
 ],
 "metadata": {
  "kernelspec": {
   "display_name": "Python 3",
   "language": "python",
   "name": "python3"
  },
  "language_info": {
   "codemirror_mode": {
    "name": "ipython",
    "version": 3
   },
   "file_extension": ".py",
   "mimetype": "text/x-python",
   "name": "python",
   "nbconvert_exporter": "python",
   "pygments_lexer": "ipython3",
   "version": "3.8.5"
  }
 },
 "nbformat": 4,
 "nbformat_minor": 5
}
